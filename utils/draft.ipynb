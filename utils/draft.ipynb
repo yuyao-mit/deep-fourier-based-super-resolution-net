{
 "cells": [
  {
   "cell_type": "code",
   "execution_count": 3,
   "id": "2b544d3c-0b84-432f-a3d2-a7272c4b10c8",
   "metadata": {},
   "outputs": [
    {
     "name": "stdout",
     "output_type": "stream",
     "text": [
      "torch.Size([8, 3, 64, 64])\n",
      "torch.Size([8, 8, 256, 256])\n",
      "torch.Size([8, 1, 256, 256])\n"
     ]
    }
   ],
   "source": [
    "import lightning as L\n",
    "from loader import NanoDataLoader\n",
    "\n",
    "root_dir = \"/home/gridsan/yyao/Research_Projects/Microstructure_Enough/deepfaker/dataset/raw\"\n",
    "data = NanoDataLoader(\n",
    "    root_dir   = root_dir,\n",
    "    r          = 4,            # 放缩比例\n",
    "    high_res   = 256,          # HR patch 边长\n",
    "    batch_size = 8\n",
    ")\n",
    "data.setup()\n",
    "\n",
    "# 取一个 batch\n",
    "lr, hr, fmask = next(iter(data.train_dataloader()))\n",
    "print(lr.shape)   # torch.Size([8, 3, 64, 64])    (因为 256//4 = 64)\n",
    "print(hr.shape)   # torch.Size([8, 8, 256, 256])\n",
    "print(fmask.shape)# torch.Size([8, 1, 256, 256])\n"
   ]
  },
  {
   "cell_type": "code",
   "execution_count": null,
   "id": "b5de319e-3551-426f-8121-c1115540505e",
   "metadata": {},
   "outputs": [],
   "source": []
  },
  {
   "cell_type": "code",
   "execution_count": null,
   "id": "755d306e-307c-4904-a7b8-67aaf9dbdb77",
   "metadata": {},
   "outputs": [],
   "source": []
  }
 ],
 "metadata": {
  "kernelspec": {
   "display_name": "Python 3 (ipykernel)",
   "language": "python",
   "name": "python3"
  },
  "language_info": {
   "codemirror_mode": {
    "name": "ipython",
    "version": 3
   },
   "file_extension": ".py",
   "mimetype": "text/x-python",
   "name": "python",
   "nbconvert_exporter": "python",
   "pygments_lexer": "ipython3",
   "version": "3.10.14"
  }
 },
 "nbformat": 4,
 "nbformat_minor": 5
}
