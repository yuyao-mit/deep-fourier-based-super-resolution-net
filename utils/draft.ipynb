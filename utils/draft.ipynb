{
 "cells": [
  {
   "cell_type": "code",
   "execution_count": 1,
   "id": "de8f4565-f885-46de-97ec-75ac31645550",
   "metadata": {},
   "outputs": [],
   "source": [
    "from blocks import FeatureExtraction\n",
    "from models import *"
   ]
  },
  {
   "cell_type": "code",
   "execution_count": 2,
   "id": "f94387d6-754c-4b89-a094-fda77366db54",
   "metadata": {},
   "outputs": [],
   "source": [
    "import torch"
   ]
  },
  {
   "cell_type": "code",
   "execution_count": 3,
   "id": "4b19e381-7ef4-4e90-8477-c0a2e1ef8f2d",
   "metadata": {},
   "outputs": [
    {
     "data": {
      "text/plain": [
       "3"
      ]
     },
     "execution_count": 3,
     "metadata": {},
     "output_type": "execute_result"
    }
   ],
   "source": [
    "input = torch.rand(3,3,64,46)\n",
    "input.shape[1]"
   ]
  },
  {
   "cell_type": "code",
   "execution_count": 4,
   "id": "d0a89f64-26c8-4fcf-8057-647b400d316f",
   "metadata": {},
   "outputs": [],
   "source": [
    "feature_extractor = FeatureExtraction(\n",
    "    inc=input.shape[1],             # 输入通道数（如 RGB 图像）\n",
    "    outc=3*input.shape[1],           # 输出通道数\n",
    "    is_train=True,     # 可忽略（你代码中没使用）\n",
    "    act='relu',        # 激活函数（仅在 need_RG=False 时有用）\n",
    "    midc=[32, 32, 32], # 中间层通道数\n",
    "    num_blocks=3,      # 块数\n",
    "    need_RG=True,      # 是否使用 ResidualGroup 结构\n",
    "    need_lwg=True      # 是否使用 LWGatedConv2D 做桥接\n",
    ")\n"
   ]
  },
  {
   "cell_type": "code",
   "execution_count": 7,
   "id": "8fd28ef8-940e-44b7-a20b-ec3c6df24267",
   "metadata": {},
   "outputs": [
    {
     "data": {
      "text/plain": [
       "torch.Size([3, 9, 64, 46])"
      ]
     },
     "execution_count": 7,
     "metadata": {},
     "output_type": "execute_result"
    }
   ],
   "source": [
    "output = feature_extractor(input)\n",
    "output.shape"
   ]
  },
  {
   "cell_type": "code",
   "execution_count": 8,
   "id": "2f94b5e9-bf9e-4c2f-bb71-32bc6fc042b9",
   "metadata": {},
   "outputs": [],
   "source": [
    "r=1\n",
    "hr_hidc = 2"
   ]
  },
  {
   "cell_type": "code",
   "execution_count": 9,
   "id": "63229f3e-ae44-478b-ab1d-a32644e196cd",
   "metadata": {},
   "outputs": [],
   "source": [
    "gbufferConv=nn.Sequential(\n",
    "            nn.Conv2d((10-3+1)*r,64,kernel_size=3,stride=1,padding=1),\n",
    "            nn.ReLU(inplace=True),\n",
    "            doubleResidualConv(64),\n",
    "            nn.Conv2d(64,64,kernel_size=3,stride=1,padding=2,dilation=2),\n",
    "            nn.ReLU(inplace=True),\n",
    "            doubleResidualConv(64),\n",
    "            nn.Conv2d(64,hr_hidc*2,kernel_size=3,stride=1,padding=2,dilation=2),\n",
    "            nn.ReLU(inplace=True),\n",
    "            doubleResidualConv(hr_hidc*2)\n",
    "            )"
   ]
  },
  {
   "cell_type": "code",
   "execution_count": 10,
   "id": "02853782-98b9-4d56-befe-8dbadeb7690c",
   "metadata": {},
   "outputs": [],
   "source": [
    "input = torch.rand(32,8,64,64)"
   ]
  },
  {
   "cell_type": "code",
   "execution_count": 11,
   "id": "37ccd8f3-4059-4e50-80c7-5df2942e7750",
   "metadata": {},
   "outputs": [
    {
     "data": {
      "text/plain": [
       "torch.Size([32, 4, 64, 64])"
      ]
     },
     "execution_count": 11,
     "metadata": {},
     "output_type": "execute_result"
    }
   ],
   "source": [
    "gbufferConv(input).shape"
   ]
  },
  {
   "cell_type": "code",
   "execution_count": 17,
   "id": "4f0553f1-eb49-4bb5-a14c-365ecd1e577f",
   "metadata": {},
   "outputs": [
    {
     "data": {
      "text/plain": [
       "tensor([[-0.0095,  0.0119],\n",
       "        [ 0.0231, -0.0022]])"
      ]
     },
     "execution_count": 17,
     "metadata": {},
     "output_type": "execute_result"
    }
   ],
   "source": [
    "torch.randn(2,2) * 0.01"
   ]
  },
  {
   "cell_type": "code",
   "execution_count": null,
   "id": "5146d2e6-ca67-4776-bf68-b5d08e26f5ef",
   "metadata": {},
   "outputs": [],
   "source": []
  },
  {
   "cell_type": "code",
   "execution_count": 11,
   "id": "691326b4-ea7c-46a7-9a4b-d727ce48993f",
   "metadata": {},
   "outputs": [
    {
     "data": {
      "text/plain": [
       "326"
      ]
     },
     "execution_count": 11,
     "metadata": {},
     "output_type": "execute_result"
    }
   ],
   "source": [
    "int(5.1*64)"
   ]
  },
  {
   "cell_type": "code",
   "execution_count": 14,
   "id": "9b51d446-6e80-43cd-ad07-e071d5176854",
   "metadata": {},
   "outputs": [
    {
     "name": "stdout",
     "output_type": "stream",
     "text": [
      "输出图像尺寸: torch.Size([1, 1, 164, 326])\n"
     ]
    }
   ],
   "source": [
    "import torch\n",
    "from models import DFSR  # 根据你的文件位置修改\n",
    "import config                # 确保 config.Pixelshuffle 被设置\n",
    "\n",
    "# 设置像素重排模式\n",
    "config.Pixelshuffle = True   # or False\n",
    "r = 5.1 if config.Pixelshuffle else 1\n",
    "\n",
    "# 创建网络实例\n",
    "model = DFSR(is_train=False)\n",
    "model.eval()\n",
    "\n",
    "\n",
    "# 模拟输入图像\n",
    "N, H, W = 1, 32, 64  # 输入图像大小\n",
    "high_h=int(H * r)\n",
    "high_w=int(W * r) \n",
    "cur_lr = torch.randn(N, 3, H, W)                       # 假设是 RGB 图\n",
    "cur_hr = torch.randn(N, 8, high_h+1, high_w)              # 假设是 [深度、法线、albedo、mask] 共 8 通道\n",
    "\n",
    "# 前向推理\n",
    "with torch.no_grad():\n",
    "    sr_img = model(cur_lr, cur_hr,5.1)\n",
    "\n",
    "# 输出尺寸\n",
    "print(\"输出图像尺寸:\", sr_img.shape)\n",
    "# 预期为: [N, 3, H*r, W*r]，例如 [1, 3, 256, 256]（若 r=4）\n"
   ]
  },
  {
   "cell_type": "code",
   "execution_count": 1,
   "id": "e31207e4-780f-4fe6-ada3-f9ef50db18da",
   "metadata": {},
   "outputs": [
    {
     "name": "stdout",
     "output_type": "stream",
     "text": [
      "[INFO] Register count_convNd() for <class 'torch.nn.modules.conv.Conv2d'>.\n",
      "[INFO] Register zero_ops() for <class 'torch.nn.modules.container.Sequential'>.\n",
      "[INFO] Register zero_ops() for <class 'torch.nn.modules.activation.ReLU'>.\n",
      "[INFO] Register count_adap_avgpool() for <class 'torch.nn.modules.pooling.AdaptiveAvgPool2d'>.\n",
      "Raw FLOPs: 1.5228e+10, Raw Params: 1.0425e+06\n",
      "Formatted FLOPs: 15.228G, Formatted Params: 1.043M\n",
      "模型计算量 (FLOPs): 15.228G\n",
      "模型参数量 (Params): 1.043M\n"
     ]
    }
   ],
   "source": [
    "import torch\n",
    "from calculate_flop import calculate_flop\n",
    "from models import DFSR  # 修改为你的模型文件路径\n",
    "import config\n",
    "\n",
    "# 配置\n",
    "config.Pixelshuffle = True\n",
    "r = 4\n",
    "\n",
    "# 初始化模型\n",
    "model = DFSR(is_train=False)\n",
    "\n",
    "# 创建 dummy 输入\n",
    "N, H, W = 1, 64, 64\n",
    "cur_lr = torch.randn(N, 3, H, W)\n",
    "cur_hr = torch.randn(N, 8, H * r, W * r)\n",
    "inputs = (cur_lr, cur_hr, r)\n",
    "\n",
    "# 计算 FLOPs 和 参数量\n",
    "flops_str, params_str = calculate_flop(model, inputs)\n",
    "\n",
    "print(\"模型计算量 (FLOPs):\", flops_str)\n",
    "print(\"模型参数量 (Params):\", params_str)\n"
   ]
  },
  {
   "cell_type": "code",
   "execution_count": 5,
   "id": "90cef1a1-a84a-4111-ad51-4fef3e7f28f5",
   "metadata": {},
   "outputs": [
    {
     "name": "stdout",
     "output_type": "stream",
     "text": [
      "组合损失值: 209.88577270507812\n"
     ]
    }
   ],
   "source": [
    "import torch\n",
    "from loss import CombinatorialLoss  # 修改为你的路径\n",
    "\n",
    "# 设置设备\n",
    "device = torch.device('cuda' if torch.cuda.is_available() else 'cpu')\n",
    "\n",
    "# 初始化损失函数\n",
    "loss_fn = CombinatorialLoss(\n",
    "    device=device,\n",
    "    loss_weight=[1.0, 1.0, 1.0, 1.0],  # L1 + SSIM + perceptual + spatial mask\n",
    "    use_gray_to_rgb=True\n",
    ")\n",
    "\n",
    "# 构造 dummy 输入\n",
    "pred = torch.rand(1, 1, 64, 64).to(device)\n",
    "label = torch.rand(1, 1, 64, 64).to(device)\n",
    "mask = torch.ones(1, 1, 64, 64).to(device)\n",
    "\n",
    "# 计算损失\n",
    "loss_value = loss_fn(pred, label, mask)\n",
    "print(\"组合损失值:\", loss_value.item())\n"
   ]
  },
  {
   "cell_type": "code",
   "execution_count": null,
   "id": "2b544d3c-0b84-432f-a3d2-a7272c4b10c8",
   "metadata": {},
   "outputs": [],
   "source": []
  },
  {
   "cell_type": "code",
   "execution_count": null,
   "id": "b5de319e-3551-426f-8121-c1115540505e",
   "metadata": {},
   "outputs": [],
   "source": []
  }
 ],
 "metadata": {
  "kernelspec": {
   "display_name": "Python 3 (ipykernel)",
   "language": "python",
   "name": "python3"
  },
  "language_info": {
   "codemirror_mode": {
    "name": "ipython",
    "version": 3
   },
   "file_extension": ".py",
   "mimetype": "text/x-python",
   "name": "python",
   "nbconvert_exporter": "python",
   "pygments_lexer": "ipython3",
   "version": "3.10.14"
  }
 },
 "nbformat": 4,
 "nbformat_minor": 5
}
