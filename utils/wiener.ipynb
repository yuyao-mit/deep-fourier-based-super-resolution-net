{
 "cells": [
  {
   "cell_type": "code",
   "execution_count": 1,
   "id": "f9a810c1-b586-4da3-aee6-58130968fc14",
   "metadata": {},
   "outputs": [],
   "source": [
    "import numpy as np\n",
    "import matplotlib.pyplot as plt\n",
    "import matplotlib.animation as animation\n",
    "from IPython.display import HTML\n",
    "\n",
    "# 设定参数\n",
    "T = 10          # 总时间\n",
    "N = 500         # 步数\n",
    "dt = T / N      # 每步时间间隔\n",
    "np.random.seed(0)  # 保持随机数可复现\n",
    "\n",
    "# 生成二维Wiener过程\n",
    "dW = np.sqrt(dt) * np.random.randn(N, 2)  # 每步增量\n",
    "W = np.cumsum(dW, axis=0)                 # 积分累加轨迹\n",
    "W = np.vstack((np.zeros((1, 2)), W))       # 加上起点 (0,0)\n",
    "\n",
    "# 绘制动画\n",
    "fig, ax = plt.subplots(figsize=(6, 6))\n",
    "ax.set_xlim(W[:, 0].min() - 1, W[:, 0].max() + 1)\n",
    "ax.set_ylim(W[:, 1].min() - 1, W[:, 1].max() + 1)\n",
    "ax.set_title(\"2D Wiener Process Evolution\")\n",
    "line, = ax.plot([], [], lw=2)\n",
    "\n",
    "def init():\n",
    "    line.set_data([], [])\n",
    "    return line,\n",
    "\n",
    "def animate(i):\n",
    "    line.set_data(W[:i, 0], W[:i, 1])\n",
    "    return line,\n",
    "\n",
    "ani = animation.FuncAnimation(fig, animate, frames=N+1, init_func=init,\n",
    "                              interval=20, blit=True)\n",
    "\n",
    "# 保存动画\n",
    "ani.save(\"wiener_process.mp4\", writer='ffmpeg', fps=30)\n",
    "plt.close()\n"
   ]
  },
  {
   "cell_type": "markdown",
   "id": "dc4ba023-8507-4a63-80e4-482713a2f535",
   "metadata": {},
   "source": [
    "# 二维 Wiener 过程（二维布朗运动）\n",
    "\n",
    "本实验模拟二维平面上的 Wiener 过程轨迹，并以动画形式展示随时间演化的过程。\n",
    "\n",
    "## 理论背景\n",
    "\n",
    "二维 Wiener 过程 $ \\mathbf{W}(t) = (W_1(t), W_2(t)) $ 定义为：\n",
    "\n",
    "- $ W_1(t)$ 和 $W_2(t) $ 是**独立的一维标准 Wiener 过程**。\n",
    "- 起点满足：\n",
    "  $$\n",
    "  \\mathbf{W}(0) = (0, 0)\n",
    "  $$\n",
    "- 对任意 \\( t > s \\)，增量服从正态分布：\n",
    "  $$\n",
    "  W_i(t) - W_i(s) \\sim \\mathcal{N}(0, t-s), \\quad i = 1,2\n",
    "  $$\n",
    "\n",
    "## 数值实现\n",
    "\n",
    "离散时间步长 $\\Delta t$下，二维 Wiener 过程的生成可以表示为：\n",
    "\n",
    "- 每一步增量：\n",
    "  $$\n",
    "  \\Delta W_i \\sim \\mathcal{N}(0, \\Delta t)\n",
    "  $$\n",
    "- 轨迹通过累加每步增量得到：\n",
    "  $$\n",
    "  W_i(t_{n+1}) = W_i(t_n) + \\Delta W_i\n",
    "  $$"
   ]
  },
  {
   "cell_type": "code",
   "execution_count": 1,
   "id": "7511d2e2-2177-492e-9b8d-d67a785c3886",
   "metadata": {},
   "outputs": [
    {
     "data": {
      "text/html": [
       "\n",
       "<video width=\"500\" height=\"500\" controls>\n",
       "  <source src=\"wiener_process.mp4\" type=\"video/mp4\">\n",
       "  Your browser does not support the video tag.\n",
       "</video>\n"
      ],
      "text/plain": [
       "<IPython.core.display.HTML object>"
      ]
     },
     "execution_count": 1,
     "metadata": {},
     "output_type": "execute_result"
    }
   ],
   "source": [
    "from IPython.display import HTML\n",
    "\n",
    "HTML(\"\"\"\n",
    "<video width=\"500\" height=\"500\" controls>\n",
    "  <source src=\"wiener_process.mp4\" type=\"video/mp4\">\n",
    "  Your browser does not support the video tag.\n",
    "</video>\n",
    "\"\"\")\n"
   ]
  },
  {
   "cell_type": "code",
   "execution_count": 4,
   "id": "f8d27769-dc8b-41c9-8418-5de5d975a857",
   "metadata": {},
   "outputs": [],
   "source": [
    "import numpy as np\n",
    "import matplotlib.pyplot as plt\n",
    "import matplotlib.animation as animation\n",
    "from mpl_toolkits.mplot3d import Axes3D\n",
    "from IPython.display import HTML\n",
    "\n",
    "# 参数设置\n",
    "T = 10           # 总时间\n",
    "N = 500          # 时间步数\n",
    "dt = T / N       # 每一步的时间间隔\n",
    "np.random.seed(0)  # 保持随机数可复现\n",
    "\n",
    "# 生成三维Wiener过程\n",
    "dW = np.sqrt(dt) * np.random.randn(N, 3)  # 每步增量\n",
    "W = np.cumsum(dW, axis=0)                 # 积分得到轨迹\n",
    "W = np.vstack((np.zeros((1, 3)), W))       # 起点加(0,0,0)\n",
    "\n",
    "# 创建3D动画\n",
    "fig = plt.figure(figsize=(8,8))\n",
    "ax = fig.add_subplot(111, projection='3d')\n",
    "ax.set_xlim(W[:,0].min()-1, W[:,0].max()+1)\n",
    "ax.set_ylim(W[:,1].min()-1, W[:,1].max()+1)\n",
    "ax.set_zlim(W[:,2].min()-1, W[:,2].max()+1)\n",
    "ax.set_title(\"3D Wiener Process Evolution\")\n",
    "\n",
    "line, = ax.plot([], [], [], lw=2)\n",
    "\n",
    "def init():\n",
    "    line.set_data([], [])\n",
    "    line.set_3d_properties([])\n",
    "    return line,\n",
    "\n",
    "def animate(i):\n",
    "    line.set_data(W[:i, 0], W[:i, 1])\n",
    "    line.set_3d_properties(W[:i, 2])\n",
    "    return line,\n",
    "\n",
    "ani = animation.FuncAnimation(fig, animate, frames=N+1, init_func=init,\n",
    "                              interval=20, blit=True)\n",
    "\n",
    "# 保存为 mp4\n",
    "ani.save(\"wiener_process_3d.mp4\", writer='ffmpeg', fps=30)\n",
    "plt.close()\n"
   ]
  },
  {
   "cell_type": "code",
   "execution_count": 5,
   "id": "5e140eae-3afa-4938-b95c-35bfe93b7c19",
   "metadata": {},
   "outputs": [
    {
     "data": {
      "text/html": [
       "\n",
       "<video width=\"600\" height=\"600\" controls>\n",
       "  <source src=\"wiener_process_3d.mp4\" type=\"video/mp4\">\n",
       "  Your browser does not support the video tag.\n",
       "</video>\n"
      ],
      "text/plain": [
       "<IPython.core.display.HTML object>"
      ]
     },
     "execution_count": 5,
     "metadata": {},
     "output_type": "execute_result"
    }
   ],
   "source": [
    "HTML(\"\"\"\n",
    "<video width=\"600\" height=\"600\" controls>\n",
    "  <source src=\"wiener_process_3d.mp4\" type=\"video/mp4\">\n",
    "  Your browser does not support the video tag.\n",
    "</video>\n",
    "\"\"\")\n"
   ]
  },
  {
   "cell_type": "code",
   "execution_count": 7,
   "id": "481f9009-8b3c-4cc7-a113-826d107a6619",
   "metadata": {},
   "outputs": [],
   "source": [
    "import numpy as np\n",
    "import matplotlib.pyplot as plt\n",
    "import matplotlib.animation as animation\n",
    "from mpl_toolkits.mplot3d import Axes3D\n",
    "from matplotlib.collections import LineCollection\n",
    "from mpl_toolkits.mplot3d.art3d import Line3DCollection\n",
    "from IPython.display import HTML\n",
    "\n",
    "# 参数设置\n",
    "T = 10\n",
    "N = 500\n",
    "dt = T / N\n",
    "np.random.seed(0)\n",
    "\n",
    "# 生成三维 Wiener 过程\n",
    "dW = np.sqrt(dt) * np.random.randn(N, 3)\n",
    "W = np.cumsum(dW, axis=0)\n",
    "W = np.vstack((np.zeros((1, 3)), W))  # 起点(0,0,0)\n",
    "\n",
    "# 创建线段数据（每一小段轨迹）\n",
    "points = W.reshape(-1, 1, 3)\n",
    "segments = np.concatenate([points[:-1], points[1:]], axis=1)\n",
    "\n",
    "# 创建3D图\n",
    "fig = plt.figure(figsize=(8, 8))\n",
    "ax = fig.add_subplot(111, projection='3d')\n",
    "ax.set_xlim(W[:,0].min()-1, W[:,0].max()+1)\n",
    "ax.set_ylim(W[:,1].min()-1, W[:,1].max()+1)\n",
    "ax.set_zlim(W[:,2].min()-1, W[:,2].max()+1)\n",
    "ax.set_title(\"3D Wiener Process with Color Evolution\")\n",
    "\n",
    "# --- 关键修改: 提供一个很小的初始段 (不是完全空的) ---\n",
    "init_segments = segments[:1]  # 取前1小段，避免空list\n",
    "\n",
    "lc = Line3DCollection(init_segments, cmap='viridis', norm=plt.Normalize(0, N))\n",
    "lc.set_array(np.linspace(0, N, N))  # 映射色条\n",
    "ax.add_collection3d(lc)\n",
    "\n",
    "def init():\n",
    "    lc.set_segments(init_segments)  # 初始至少1段\n",
    "    return lc,\n",
    "\n",
    "def animate(i):\n",
    "    if i == 0:\n",
    "        lc.set_segments(init_segments)\n",
    "    else:\n",
    "        current_segments = segments[:i]\n",
    "        lc.set_segments(current_segments)\n",
    "    return lc,\n",
    "\n",
    "ani = animation.FuncAnimation(fig, animate, frames=N+1, init_func=init,\n",
    "                              interval=20, blit=True)\n",
    "\n",
    "# 保存为 mp4\n",
    "ani.save(\"wiener_process_3d_colored.mp4\", writer='ffmpeg', fps=30)\n",
    "plt.close()\n"
   ]
  },
  {
   "cell_type": "code",
   "execution_count": 2,
   "id": "9435cc58-29d4-42e5-aed7-41b08f95142a",
   "metadata": {},
   "outputs": [
    {
     "data": {
      "text/html": [
       "\n",
       "<video width=\"600\" height=\"600\" controls>\n",
       "  <source src=\"wiener_process_3d_colored.mp4\" type=\"video/mp4\">\n",
       "  Your browser does not support the video tag.\n",
       "</video>\n"
      ],
      "text/plain": [
       "<IPython.core.display.HTML object>"
      ]
     },
     "execution_count": 2,
     "metadata": {},
     "output_type": "execute_result"
    }
   ],
   "source": [
    "HTML(\"\"\"\n",
    "<video width=\"600\" height=\"600\" controls>\n",
    "  <source src=\"wiener_process_3d_colored.mp4\" type=\"video/mp4\">\n",
    "  Your browser does not support the video tag.\n",
    "</video>\n",
    "\"\"\")\n"
   ]
  },
  {
   "cell_type": "code",
   "execution_count": 13,
   "id": "2526fe8e-1479-458d-8e18-9d3a423474dc",
   "metadata": {},
   "outputs": [],
   "source": [
    "import numpy as np\n",
    "import matplotlib.pyplot as plt\n",
    "import matplotlib.animation as animation\n",
    "from mpl_toolkits.mplot3d import Axes3D\n",
    "from matplotlib.collections import LineCollection\n",
    "from mpl_toolkits.mplot3d.art3d import Line3DCollection\n",
    "from IPython.display import HTML\n",
    "\n",
    "# 参数设置\n",
    "T = 20           # 总时间\n",
    "N = 500*2          # 步数\n",
    "dt = T / N\n",
    "np.random.seed(0)\n",
    "\n",
    "# 螺旋漂移参数\n",
    "omega = 2 * np.pi / 5   # 螺旋角频率（控制转一圈需要多久）\n",
    "v = 0.5                 # z轴向上的漂移速度\n",
    "\n",
    "# 时间戳\n",
    "ts = np.linspace(0, T, N)\n",
    "\n",
    "# 漂移项（沿螺旋线）\n",
    "mu = np.zeros((N, 3))\n",
    "mu[:, 0] = np.cos(omega * ts)  # x方向漂移\n",
    "mu[:, 1] = np.sin(omega * ts)  # y方向漂移\n",
    "mu[:, 2] = v                   # z方向漂移\n",
    "\n",
    "# 生成带漂移的随机过程\n",
    "dW = np.sqrt(dt) * np.random.randn(N, 3) *0.1   # 随机增量\n",
    "dX = mu * dt + dW                           # 总增量 = 漂移 + 扩散\n",
    "X = np.cumsum(dX, axis=0)                   # 积分轨迹\n",
    "X = np.vstack((np.zeros((1, 3)), X))         # 起点 (0,0,0)\n",
    "\n",
    "# 创建线段数据\n",
    "points = X.reshape(-1, 1, 3)\n",
    "segments = np.concatenate([points[:-1], points[1:]], axis=1)\n",
    "\n",
    "# 创建3D图\n",
    "fig = plt.figure(figsize=(8, 8))\n",
    "ax = fig.add_subplot(111, projection='3d')\n",
    "ax.set_xlim(X[:,0].min()-1, X[:,0].max()+1)\n",
    "ax.set_ylim(X[:,1].min()-1, X[:,1].max()+1)\n",
    "ax.set_zlim(X[:,2].min()-1, X[:,2].max()+1)\n",
    "ax.set_title(\"3D Wiener Process with Spiral Drift\")\n",
    "\n",
    "# 提供初始段\n",
    "init_segments = segments[:1]\n",
    "\n",
    "lc = Line3DCollection(init_segments, cmap='viridis', norm=plt.Normalize(0, N))\n",
    "lc.set_array(np.linspace(0, N, N))  # 时间色条\n",
    "ax.add_collection3d(lc)\n",
    "\n",
    "def init():\n",
    "    lc.set_segments(init_segments)\n",
    "    return lc,\n",
    "\n",
    "def animate(i):\n",
    "    if i == 0:\n",
    "        lc.set_segments(init_segments)\n",
    "    else:\n",
    "        current_segments = segments[:i]\n",
    "        lc.set_segments(current_segments)\n",
    "    return lc,\n",
    "\n",
    "ani = animation.FuncAnimation(fig, animate, frames=N+1, init_func=init,\n",
    "                              interval=20, blit=True)\n",
    "\n",
    "# 保存\n",
    "ani.save(\"wiener_process_spiral_drift.mp4\", writer='ffmpeg', fps=30)\n",
    "plt.close()\n"
   ]
  },
  {
   "cell_type": "code",
   "execution_count": 3,
   "id": "58b23041-eae6-4d90-beb2-3dd98a89c561",
   "metadata": {},
   "outputs": [
    {
     "data": {
      "text/html": [
       "\n",
       "<video width=\"600\" height=\"600\" controls>\n",
       "  <source src=\"wiener_process_spiral_drift.mp4\" type=\"video/mp4\">\n",
       "  Your browser does not support the video tag.\n",
       "</video>\n"
      ],
      "text/plain": [
       "<IPython.core.display.HTML object>"
      ]
     },
     "execution_count": 3,
     "metadata": {},
     "output_type": "execute_result"
    }
   ],
   "source": [
    "from IPython.display import HTML\n",
    "\n",
    "HTML(\"\"\"\n",
    "<video width=\"600\" height=\"600\" controls>\n",
    "  <source src=\"wiener_process_spiral_drift.mp4\" type=\"video/mp4\">\n",
    "  Your browser does not support the video tag.\n",
    "</video>\n",
    "\"\"\")\n"
   ]
  },
  {
   "cell_type": "code",
   "execution_count": 5,
   "id": "e065181e-6c6f-4b30-847c-ef1bb7723eca",
   "metadata": {},
   "outputs": [
    {
     "name": "stdout",
     "output_type": "stream",
     "text": [
      "动画已保存为 allen_cahn_simulation.mp4\n"
     ]
    }
   ],
   "source": [
    "import numpy as np\n",
    "import matplotlib.pyplot as plt\n",
    "from matplotlib import cm\n",
    "from matplotlib.animation import FuncAnimation\n",
    "\n",
    "# 模拟器参数\n",
    "nx, ny = 128, 128     # 网格大小\n",
    "dx = dy = 1.0         # 空间步长\n",
    "dt = 0.01             # 时间步长\n",
    "T = 200.0              # 总时间\n",
    "n_steps = int(T / dt)\n",
    "\n",
    "epsilon = 1.0         # 界面宽度控制参数\n",
    "noise_strength = 0.05 # 初始扰动强度\n",
    "\n",
    "# 初始化相场变量 φ（随机扰动围绕0.5）\n",
    "phi = 0.5 + noise_strength * (np.random.rand(nx, ny) - 0.5)\n",
    "\n",
    "# 用于存储动画帧\n",
    "snapshots = [phi.copy()]\n",
    "\n",
    "# Allen-Cahn PDE 右边项\n",
    "def double_well_potential_deriv(phi):\n",
    "    return phi * (phi - 1) * (2 * phi - 1)  # d/dφ [φ²(1-φ)²]\n",
    "\n",
    "# 拉普拉斯算子（周期边界条件）\n",
    "def laplacian(phi):\n",
    "    return (\n",
    "        -4 * phi\n",
    "        + np.roll(phi, 1, axis=0)\n",
    "        + np.roll(phi, -1, axis=0)\n",
    "        + np.roll(phi, 1, axis=1)\n",
    "        + np.roll(phi, -1, axis=1)\n",
    "    ) / (dx * dy)\n",
    "\n",
    "# 时间演化\n",
    "for step in range(n_steps):\n",
    "    deltaF = -epsilon**2 * laplacian(phi) + double_well_potential_deriv(phi)\n",
    "    phi += -dt * deltaF  # Allen-Cahn更新\n",
    "    if step % 50 == 0:\n",
    "        snapshots.append(phi.copy())\n",
    "\n",
    "# 可视化动画\n",
    "fig, ax = plt.subplots(figsize=(5, 5))\n",
    "im = ax.imshow(snapshots[0], cmap=cm.viridis, origin='lower', vmin=0, vmax=1)\n",
    "ax.set_title(\"Allen-Cahn Phase Field Evolution\")\n",
    "ax.axis('off')\n",
    "\n",
    "def update(frame):\n",
    "    im.set_array(snapshots[frame])\n",
    "    return [im]\n",
    "\n",
    "ani = FuncAnimation(fig, update, frames=len(snapshots), interval=50)\n",
    "\n",
    "# 保存到当前目录下\n",
    "output_path = \"allen_cahn_simulation.mp4\"\n",
    "ani.save(output_path, writer='ffmpeg', fps=10)\n",
    "\n",
    "plt.close()\n",
    "print(f\"动画已保存为 {output_path}\")\n"
   ]
  },
  {
   "cell_type": "code",
   "execution_count": 4,
   "id": "cec69810-182d-47ce-aa10-38d7d476e746",
   "metadata": {},
   "outputs": [
    {
     "data": {
      "text/html": [
       "\n",
       "<video width=\"500\" height=\"500\" controls>\n",
       "  <source src=\"allen_cahn_simulation.mp4\" type=\"video/mp4\">\n",
       "  Your browser does not support the video tag.\n",
       "</video>\n"
      ],
      "text/plain": [
       "<IPython.core.display.HTML object>"
      ]
     },
     "execution_count": 4,
     "metadata": {},
     "output_type": "execute_result"
    }
   ],
   "source": [
    "from IPython.display import HTML\n",
    "\n",
    "HTML(\"\"\"\n",
    "<video width=\"500\" height=\"500\" controls>\n",
    "  <source src=\"allen_cahn_simulation.mp4\" type=\"video/mp4\">\n",
    "  Your browser does not support the video tag.\n",
    "</video>\n",
    "\"\"\")\n"
   ]
  },
  {
   "cell_type": "code",
   "execution_count": null,
   "id": "7213d260-89c5-4386-8ad0-20da3bc32fc3",
   "metadata": {},
   "outputs": [],
   "source": []
  }
 ],
 "metadata": {
  "kernelspec": {
   "display_name": "Python 3 (ipykernel)",
   "language": "python",
   "name": "python3"
  },
  "language_info": {
   "codemirror_mode": {
    "name": "ipython",
    "version": 3
   },
   "file_extension": ".py",
   "mimetype": "text/x-python",
   "name": "python",
   "nbconvert_exporter": "python",
   "pygments_lexer": "ipython3",
   "version": "3.10.14"
  }
 },
 "nbformat": 4,
 "nbformat_minor": 5
}
